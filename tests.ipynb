{
 "cells": [
  {
   "cell_type": "code",
   "execution_count": 4,
   "metadata": {},
   "outputs": [],
   "source": [
    "from utils import *"
   ]
  },
  {
   "cell_type": "code",
   "execution_count": 5,
   "metadata": {},
   "outputs": [
    {
     "name": "stdout",
     "output_type": "stream",
     "text": [
      "src_dir: /Users/oren2/Documents/deep learning/deep-utils/detector_data/train number of items to copy: 2\n"
     ]
    }
   ],
   "source": [
    "import os, sys\n",
    "\n",
    "current_dir = os.getcwd()\n",
    "LESSON_HOME_DIR = current_dir\n",
    "DATA_HOME_DIR = current_dir+'/detector_data/'\n",
    "# print(DATA_HOME_DIR)\n",
    "\n",
    "# split_train(DATA_HOME_DIR, 'valid', split=0.6, extensions=['png'])\n",
    "gen_sample(DATA_HOME_DIR, extensions=['png', 'xml'], split=0.4)"
   ]
  },
  {
   "cell_type": "code",
   "execution_count": null,
   "metadata": {
    "collapsed": true
   },
   "outputs": [],
   "source": []
  }
 ],
 "metadata": {
  "kernelspec": {
   "display_name": "Python [conda env:py36tf]",
   "language": "python",
   "name": "conda-env-py36tf-py"
  }
 },
 "nbformat": 4,
 "nbformat_minor": 2
}
