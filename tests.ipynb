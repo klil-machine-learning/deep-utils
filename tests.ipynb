{
 "cells": [
  {
   "cell_type": "code",
   "execution_count": 1,
   "metadata": {},
   "outputs": [],
   "source": [
    "from deeputils import *"
   ]
  },
  {
   "cell_type": "code",
   "execution_count": 3,
   "metadata": {},
   "outputs": [
    {
     "name": "stdout",
     "output_type": "stream",
     "text": [
      "number of items to move:  3\n"
     ]
    }
   ],
   "source": [
    "import os, sys\n",
    "\n",
    "current_dir = os.getcwd()\n",
    "LESSON_HOME_DIR = current_dir\n",
    "DATA_HOME_DIR = current_dir+'/detector_data/'\n",
    "# print(DATA_HOME_DIR)\n",
    "\n",
    "split_train(DATA_HOME_DIR, split=0.6, extensions=['png'])\n",
    "# gen_sample(DATA_HOME_DIR, extensions=['png', 'xml'], split=0.4)"
   ]
  },
  {
   "cell_type": "code",
   "execution_count": 9,
   "metadata": {},
   "outputs": [
    {
     "name": "stdout",
     "output_type": "stream",
     "text": [
      "/Users/oren2/Documents/deep learning/deep-utils/detector_data/train\n",
      "['/Users/oren2/Documents/deep learning/deep-utils/detector_data/train/class1/train_class1_image1.png', '/Users/oren2/Documents/deep learning/deep-utils/detector_data/train/class1/train_class1_image2.png', '/Users/oren2/Documents/deep learning/deep-utils/detector_data/train/class1/train_class1_image3.png', '/Users/oren2/Documents/deep learning/deep-utils/detector_data/train/class1/train_class1_image4.png', '/Users/oren2/Documents/deep learning/deep-utils/detector_data/train/class1/train_class1_image5.png', '/Users/oren2/Documents/deep learning/deep-utils/detector_data/train/class1/train_class1_image6.png']\n"
     ]
    }
   ],
   "source": [
    "train = os.path.join(DATA_HOME_DIR, 'train')\n",
    "print(train)\n",
    "g_train = glob(train+\"/**/*.png\", recursive=True)\n",
    "print(g_train)"
   ]
  },
  {
   "cell_type": "code",
   "execution_count": null,
   "metadata": {
    "collapsed": true
   },
   "outputs": [],
   "source": []
  }
 ],
 "metadata": {
  "kernelspec": {
   "display_name": "Python [conda env:py36tf]",
   "language": "python",
   "name": "conda-env-py36tf-py"
  },
  "language_info": {
   "codemirror_mode": {
    "name": "ipython",
    "version": 3
   },
   "file_extension": ".py",
   "mimetype": "text/x-python",
   "name": "python",
   "nbconvert_exporter": "python",
   "pygments_lexer": "ipython3",
   "version": "3.6.1"
  }
 },
 "nbformat": 4,
 "nbformat_minor": 2
}
